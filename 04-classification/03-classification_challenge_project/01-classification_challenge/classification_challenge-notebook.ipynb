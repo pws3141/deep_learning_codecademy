{
 "cells": [
  {
   "cell_type": "code",
   "execution_count": 1,
   "id": "52e910cc",
   "metadata": {},
   "outputs": [
    {
     "name": "stderr",
     "output_type": "stream",
     "text": [
      "2023-01-26 11:52:19.077543: I tensorflow/core/platform/cpu_feature_guard.cc:193] This TensorFlow binary is optimized with oneAPI Deep Neural Network Library (oneDNN) to use the following CPU instructions in performance-critical operations:  AVX2 FMA\n",
      "To enable them in other operations, rebuild TensorFlow with the appropriate compiler flags.\n"
     ]
    }
   ],
   "source": [
    "\n",
    "import tensorflow as tf\n",
    "from tensorflow import keras\n",
    "from tensorflow.keras.models import Sequential\n",
    "from tensorflow.keras.layers import Input, Dense, Conv2D, MaxPooling2D, Flatten\n",
    "from tensorflow.keras.preprocessing.image import ImageDataGenerator\n",
    "\n",
    "from sklearn.metrics import classification_report\n",
    "from sklearn.metrics import confusion_matrix\n",
    "\n",
    "from tensorflow.keras.callbacks import EarlyStopping\n",
    "from tensorflow.keras import layers\n",
    "\n",
    "import matplotlib.pyplot as plt\n",
    "import numpy as np\n",
    "\n"
   ]
  },
  {
   "cell_type": "code",
   "execution_count": 2,
   "id": "00aff876",
   "metadata": {},
   "outputs": [
    {
     "name": "stdout",
     "output_type": "stream",
     "text": [
      "Found 251 images belonging to 3 classes.\n",
      "Found 66 images belonging to 3 classes.\n"
     ]
    }
   ],
   "source": [
    "# images are 256 x 256, greyscale\n",
    "# create augmentation environment\n",
    "training_data_generator = ImageDataGenerator(rescale = 1./256, zoom_range = 0.2,\n",
    "                                             rotation_range = 15,\n",
    "                                             width_shift_range = 0.08,\n",
    "                                             height_shift_range = 0.08)\n",
    "\n",
    "test_data_generator = ImageDataGenerator(rescale = 1./256, zoom_range = 0.2,\n",
    "                                         rotation_range = 15,\n",
    "                                         width_shift_range = 0.08,\n",
    "                                         height_shift_range = 0.08)\n",
    "\n",
    "# load the data & augment\n",
    "dir_train = \"./Covid19-dataset/train/\"\n",
    "dir_test = \"./Covid19-dataset/test/\"\n",
    "batch_images = 4\n",
    "\n",
    "training_iterator = training_data_generator.flow_from_directory(dir_train,\n",
    "                                                                class_mode = 'categorical',\n",
    "                                                                color_mode = 'grayscale',\n",
    "                                                                batch_size = batch_images)\n",
    "test_iterator = test_data_generator.flow_from_directory(dir_test,\n",
    "                                                        class_mode = 'categorical',\n",
    "                                                        color_mode = 'grayscale',\n",
    "                                                        batch_size = batch_images)\n",
    "\n",
    "\n"
   ]
  },
  {
   "cell_type": "code",
   "execution_count": 3,
   "id": "9f79781a",
   "metadata": {},
   "outputs": [
    {
     "name": "stdout",
     "output_type": "stream",
     "text": [
      "Model: \"sequential\"\n",
      "_________________________________________________________________\n",
      " Layer (type)                Output Shape              Param #   \n",
      "=================================================================\n",
      " conv2d (Conv2D)             (None, 254, 254, 4)       40        \n",
      "                                                                 \n",
      " max_pooling2d (MaxPooling2D  (None, 84, 84, 4)        0         \n",
      " )                                                               \n",
      "                                                                 \n",
      " conv2d_1 (Conv2D)           (None, 82, 82, 4)         148       \n",
      "                                                                 \n",
      " max_pooling2d_1 (MaxPooling  (None, 27, 27, 4)        0         \n",
      " 2D)                                                             \n",
      "                                                                 \n",
      " flatten (Flatten)           (None, 2916)              0         \n",
      "                                                                 \n",
      " dense (Dense)               (None, 3)                 8751      \n",
      "                                                                 \n",
      "=================================================================\n",
      "Total params: 8,939\n",
      "Trainable params: 8,939\n",
      "Non-trainable params: 0\n",
      "_________________________________________________________________\n"
     ]
    },
    {
     "name": "stderr",
     "output_type": "stream",
     "text": [
      "2023-01-26 11:52:32.358706: I tensorflow/core/platform/cpu_feature_guard.cc:193] This TensorFlow binary is optimized with oneAPI Deep Neural Network Library (oneDNN) to use the following CPU instructions in performance-critical operations:  AVX2 FMA\n",
      "To enable them in other operations, rebuild TensorFlow with the appropriate compiler flags.\n"
     ]
    }
   ],
   "source": [
    "####\n",
    "### Creating classification neural network\n",
    "####\n",
    "\n",
    "model = Sequential()\n",
    "\n",
    "# input layer\n",
    "# 256 x 256 images, greyscale\n",
    "model.add(Input(shape = training_iterator.image_shape))\n",
    "\n",
    "# two Conv2D layers with MaxPooling2D sandwitch\n",
    "model.add(layers.Conv2D(4, 3, activation='relu'))\n",
    "model.add(layers.MaxPooling2D(pool_size=(3,3), strides=3))\n",
    "model.add(layers.Conv2D(4, 3, activation='relu'))\n",
    "model.add(layers.MaxPooling2D(pool_size=(3,3), strides=3))\n",
    "model.add(Flatten())\n",
    "\n",
    "#model.add(Dense(16, activation='relu'))\n",
    "\n",
    "# output layer\n",
    "# three different classifications\n",
    "# using 'softmax' to obtain probs\n",
    "model.add(Dense(3, activation = \"softmax\"))\n",
    "\n",
    "model.summary()\n",
    "\n",
    "\n"
   ]
  },
  {
   "cell_type": "code",
   "execution_count": 4,
   "id": "291b3312",
   "metadata": {},
   "outputs": [],
   "source": [
    "### compile\n",
    "# using Adam optimisation\n",
    "\n",
    "model.compile(\n",
    "        optimizer = tf.keras.optimizers.Adam(learning_rate = 0.02),\n",
    "        loss = tf.keras.losses.CategoricalCrossentropy(),\n",
    "        metrics = [tf.keras.metrics.CategoricalAccuracy(), tf.keras.metrics.AUC()]\n",
    "        )\n"
   ]
  },
  {
   "cell_type": "code",
   "execution_count": 5,
   "id": "accdafba",
   "metadata": {},
   "outputs": [
    {
     "name": "stdout",
     "output_type": "stream",
     "text": [
      "Epoch 1/100\n",
      "62/62 [==============================] - 8s 99ms/step - loss: 1.1418 - categorical_accuracy: 0.4542 - auc: 0.5906 - val_loss: 1.1013 - val_categorical_accuracy: 0.3939 - val_auc: 0.5440\n",
      "Epoch 2/100\n",
      "62/62 [==============================] - 6s 92ms/step - loss: 1.0758 - categorical_accuracy: 0.4422 - auc: 0.5741 - val_loss: 1.0954 - val_categorical_accuracy: 0.3939 - val_auc: 0.5481\n",
      "Epoch 3/100\n",
      "62/62 [==============================] - 6s 95ms/step - loss: 1.0773 - categorical_accuracy: 0.4422 - auc: 0.5698 - val_loss: 1.0946 - val_categorical_accuracy: 0.3939 - val_auc: 0.5478\n",
      "Epoch 4/100\n",
      "62/62 [==============================] - 5s 82ms/step - loss: 1.0778 - categorical_accuracy: 0.4422 - auc: 0.5516 - val_loss: 1.0952 - val_categorical_accuracy: 0.3939 - val_auc: 0.5455\n",
      "Epoch 5/100\n",
      "62/62 [==============================] - 5s 83ms/step - loss: 1.0795 - categorical_accuracy: 0.4422 - auc: 0.5530 - val_loss: 1.0935 - val_categorical_accuracy: 0.3939 - val_auc: 0.5481\n",
      "Epoch 6/100\n",
      "62/62 [==============================] - 5s 83ms/step - loss: 1.0761 - categorical_accuracy: 0.4422 - auc: 0.5725 - val_loss: 1.0927 - val_categorical_accuracy: 0.3939 - val_auc: 0.5339\n",
      "Epoch 7/100\n",
      "62/62 [==============================] - 5s 85ms/step - loss: 0.9944 - categorical_accuracy: 0.5020 - auc: 0.6736 - val_loss: 1.1286 - val_categorical_accuracy: 0.3939 - val_auc: 0.5725\n",
      "Epoch 8/100\n",
      "62/62 [==============================] - 6s 89ms/step - loss: 0.8705 - categorical_accuracy: 0.5896 - auc: 0.7757 - val_loss: 0.8402 - val_categorical_accuracy: 0.5606 - val_auc: 0.8030\n",
      "Epoch 9/100\n",
      "62/62 [==============================] - 5s 86ms/step - loss: 0.9296 - categorical_accuracy: 0.5657 - auc: 0.7390 - val_loss: 0.8368 - val_categorical_accuracy: 0.6818 - val_auc: 0.8139\n",
      "Epoch 10/100\n",
      "62/62 [==============================] - 5s 80ms/step - loss: 0.6402 - categorical_accuracy: 0.7689 - auc: 0.8957 - val_loss: 0.8312 - val_categorical_accuracy: 0.6364 - val_auc: 0.7983\n",
      "Epoch 11/100\n",
      "62/62 [==============================] - 5s 82ms/step - loss: 0.7804 - categorical_accuracy: 0.6614 - auc: 0.8400 - val_loss: 0.6605 - val_categorical_accuracy: 0.7424 - val_auc: 0.8745\n",
      "Epoch 12/100\n",
      "62/62 [==============================] - 5s 84ms/step - loss: 0.6188 - categorical_accuracy: 0.7410 - auc: 0.8933 - val_loss: 0.6889 - val_categorical_accuracy: 0.6970 - val_auc: 0.8875\n",
      "Epoch 13/100\n",
      "62/62 [==============================] - 5s 80ms/step - loss: 0.7027 - categorical_accuracy: 0.7052 - auc: 0.8832 - val_loss: 0.7146 - val_categorical_accuracy: 0.7121 - val_auc: 0.8681\n",
      "Epoch 14/100\n",
      "62/62 [==============================] - 5s 80ms/step - loss: 0.6362 - categorical_accuracy: 0.7371 - auc: 0.8941 - val_loss: 1.0869 - val_categorical_accuracy: 0.5303 - val_auc: 0.6999\n",
      "Epoch 15/100\n",
      "62/62 [==============================] - 5s 85ms/step - loss: 0.6078 - categorical_accuracy: 0.7570 - auc: 0.9096 - val_loss: 0.9175 - val_categorical_accuracy: 0.6970 - val_auc: 0.8491\n",
      "Epoch 16/100\n",
      "62/62 [==============================] - 5s 87ms/step - loss: 0.5413 - categorical_accuracy: 0.8127 - auc: 0.9255 - val_loss: 0.8827 - val_categorical_accuracy: 0.7273 - val_auc: 0.8907\n",
      "Epoch 17/100\n",
      "62/62 [==============================] - 6s 91ms/step - loss: 0.4705 - categorical_accuracy: 0.8327 - auc: 0.9402 - val_loss: 0.6245 - val_categorical_accuracy: 0.7273 - val_auc: 0.8985\n",
      "Epoch 18/100\n",
      "62/62 [==============================] - 6s 90ms/step - loss: 0.4706 - categorical_accuracy: 0.8207 - auc: 0.9409 - val_loss: 0.7503 - val_categorical_accuracy: 0.6212 - val_auc: 0.8629\n",
      "Epoch 19/100\n",
      "62/62 [==============================] - 6s 91ms/step - loss: 0.5394 - categorical_accuracy: 0.7729 - auc: 0.9199 - val_loss: 0.4573 - val_categorical_accuracy: 0.7727 - val_auc: 0.9439\n",
      "Epoch 20/100\n",
      "62/62 [==============================] - 5s 82ms/step - loss: 0.4820 - categorical_accuracy: 0.8048 - auc: 0.9366 - val_loss: 0.5309 - val_categorical_accuracy: 0.7879 - val_auc: 0.9332\n",
      "Epoch 21/100\n",
      "62/62 [==============================] - 6s 88ms/step - loss: 0.4748 - categorical_accuracy: 0.8406 - auc: 0.9469 - val_loss: 0.6990 - val_categorical_accuracy: 0.6970 - val_auc: 0.8678\n",
      "Epoch 22/100\n",
      "62/62 [==============================] - 5s 83ms/step - loss: 0.5691 - categorical_accuracy: 0.7968 - auc: 0.9343 - val_loss: 0.4338 - val_categorical_accuracy: 0.8485 - val_auc: 0.9476\n",
      "Epoch 23/100\n",
      "62/62 [==============================] - 6s 91ms/step - loss: 0.4942 - categorical_accuracy: 0.8207 - auc: 0.9358 - val_loss: 0.6269 - val_categorical_accuracy: 0.7424 - val_auc: 0.9017\n",
      "Epoch 24/100\n",
      "62/62 [==============================] - 7s 103ms/step - loss: 0.3669 - categorical_accuracy: 0.8566 - auc: 0.9622 - val_loss: 0.5362 - val_categorical_accuracy: 0.8182 - val_auc: 0.9291\n",
      "Epoch 25/100\n",
      "62/62 [==============================] - 8s 125ms/step - loss: 0.3813 - categorical_accuracy: 0.8367 - auc: 0.9599 - val_loss: 0.5057 - val_categorical_accuracy: 0.7879 - val_auc: 0.9361\n",
      "Epoch 26/100\n",
      "62/62 [==============================] - 9s 139ms/step - loss: 0.4348 - categorical_accuracy: 0.8247 - auc: 0.9464 - val_loss: 0.5356 - val_categorical_accuracy: 0.8333 - val_auc: 0.9316\n",
      "Epoch 27/100\n",
      "62/62 [==============================] - 9s 141ms/step - loss: 0.3888 - categorical_accuracy: 0.8167 - auc: 0.9597 - val_loss: 0.5152 - val_categorical_accuracy: 0.7879 - val_auc: 0.9283\n",
      "Epoch 28/100\n",
      "62/62 [==============================] - 9s 136ms/step - loss: 0.5480 - categorical_accuracy: 0.7928 - auc: 0.9233 - val_loss: 0.4757 - val_categorical_accuracy: 0.8182 - val_auc: 0.9408\n",
      "Epoch 29/100\n",
      "62/62 [==============================] - 8s 127ms/step - loss: 0.4856 - categorical_accuracy: 0.8367 - auc: 0.9421 - val_loss: 0.5981 - val_categorical_accuracy: 0.7121 - val_auc: 0.9040\n",
      "Epoch 30/100\n",
      "62/62 [==============================] - 7s 112ms/step - loss: 0.4621 - categorical_accuracy: 0.8048 - auc: 0.9427 - val_loss: 0.7344 - val_categorical_accuracy: 0.6667 - val_auc: 0.8722\n",
      "Epoch 31/100\n",
      "62/62 [==============================] - 6s 102ms/step - loss: 0.3495 - categorical_accuracy: 0.8725 - auc: 0.9660 - val_loss: 0.5424 - val_categorical_accuracy: 0.7727 - val_auc: 0.9283\n",
      "Epoch 32/100\n",
      "62/62 [==============================] - 7s 104ms/step - loss: 0.4357 - categorical_accuracy: 0.8446 - auc: 0.9505 - val_loss: 0.4993 - val_categorical_accuracy: 0.7879 - val_auc: 0.9353\n",
      "Epoch 33/100\n",
      "62/62 [==============================] - 6s 101ms/step - loss: 0.4331 - categorical_accuracy: 0.8486 - auc: 0.9531 - val_loss: 0.7010 - val_categorical_accuracy: 0.7424 - val_auc: 0.8949\n",
      "Epoch 34/100\n",
      "62/62 [==============================] - 6s 101ms/step - loss: 0.5559 - categorical_accuracy: 0.7490 - auc: 0.9193 - val_loss: 0.5593 - val_categorical_accuracy: 0.8182 - val_auc: 0.9264\n",
      "Epoch 35/100\n",
      "62/62 [==============================] - 7s 108ms/step - loss: 0.4003 - categorical_accuracy: 0.8327 - auc: 0.9565 - val_loss: 1.2615 - val_categorical_accuracy: 0.7727 - val_auc: 0.8690\n",
      "Epoch 36/100\n",
      "62/62 [==============================] - 7s 103ms/step - loss: 0.4122 - categorical_accuracy: 0.8765 - auc: 0.9563 - val_loss: 0.4292 - val_categorical_accuracy: 0.8333 - val_auc: 0.9493\n",
      "Epoch 37/100\n",
      "62/62 [==============================] - 7s 107ms/step - loss: 0.3566 - categorical_accuracy: 0.8685 - auc: 0.9682 - val_loss: 0.5384 - val_categorical_accuracy: 0.7727 - val_auc: 0.9275\n",
      "Epoch 38/100\n",
      "62/62 [==============================] - 7s 105ms/step - loss: 0.3313 - categorical_accuracy: 0.8645 - auc: 0.9699 - val_loss: 0.4677 - val_categorical_accuracy: 0.8636 - val_auc: 0.9442\n",
      "Epoch 39/100\n",
      "62/62 [==============================] - 7s 110ms/step - loss: 0.3864 - categorical_accuracy: 0.8645 - auc: 0.9614 - val_loss: 0.6112 - val_categorical_accuracy: 0.8030 - val_auc: 0.9279\n",
      "Epoch 40/100\n",
      "62/62 [==============================] - 7s 106ms/step - loss: 0.3308 - categorical_accuracy: 0.8845 - auc: 0.9681 - val_loss: 0.5834 - val_categorical_accuracy: 0.7727 - val_auc: 0.9349\n",
      "Epoch 41/100\n",
      "62/62 [==============================] - 7s 105ms/step - loss: 0.4388 - categorical_accuracy: 0.8127 - auc: 0.9493 - val_loss: 0.3369 - val_categorical_accuracy: 0.9242 - val_auc: 0.9808\n",
      "Epoch 42/100\n"
     ]
    },
    {
     "name": "stdout",
     "output_type": "stream",
     "text": [
      "62/62 [==============================] - 7s 112ms/step - loss: 0.4530 - categorical_accuracy: 0.8446 - auc: 0.9483 - val_loss: 0.7157 - val_categorical_accuracy: 0.7424 - val_auc: 0.9086\n",
      "Epoch 43/100\n",
      "62/62 [==============================] - 7s 108ms/step - loss: 0.3309 - categorical_accuracy: 0.8725 - auc: 0.9694 - val_loss: 0.4226 - val_categorical_accuracy: 0.8788 - val_auc: 0.9537\n",
      "Epoch 44/100\n",
      "62/62 [==============================] - 7s 105ms/step - loss: 0.3656 - categorical_accuracy: 0.8566 - auc: 0.9632 - val_loss: 0.5401 - val_categorical_accuracy: 0.8636 - val_auc: 0.9366\n",
      "Epoch 45/100\n",
      "62/62 [==============================] - 7s 105ms/step - loss: 0.3189 - categorical_accuracy: 0.8765 - auc: 0.9727 - val_loss: 0.8199 - val_categorical_accuracy: 0.7273 - val_auc: 0.9094\n",
      "Epoch 46/100\n",
      "62/62 [==============================] - 7s 112ms/step - loss: 0.3250 - categorical_accuracy: 0.8606 - auc: 0.9702 - val_loss: 0.4040 - val_categorical_accuracy: 0.8939 - val_auc: 0.9617\n",
      "Epoch 47/100\n",
      "62/62 [==============================] - 7s 106ms/step - loss: 0.3623 - categorical_accuracy: 0.8685 - auc: 0.9635 - val_loss: 0.4484 - val_categorical_accuracy: 0.8182 - val_auc: 0.9523\n",
      "Epoch 48/100\n",
      "62/62 [==============================] - 6s 103ms/step - loss: 0.5023 - categorical_accuracy: 0.8287 - auc: 0.9344 - val_loss: 0.5956 - val_categorical_accuracy: 0.7424 - val_auc: 0.9166\n",
      "Epoch 49/100\n",
      "62/62 [==============================] - 6s 99ms/step - loss: 0.8713 - categorical_accuracy: 0.6056 - auc: 0.7859 - val_loss: 0.8667 - val_categorical_accuracy: 0.5606 - val_auc: 0.7788\n",
      "Epoch 50/100\n",
      "62/62 [==============================] - 6s 98ms/step - loss: 0.8777 - categorical_accuracy: 0.5777 - auc: 0.7578 - val_loss: 1.0567 - val_categorical_accuracy: 0.4242 - val_auc: 0.6463\n",
      "Epoch 51/100\n",
      "62/62 [==============================] - 6s 96ms/step - loss: 0.8930 - categorical_accuracy: 0.5777 - auc: 0.7608 - val_loss: 0.8898 - val_categorical_accuracy: 0.5758 - val_auc: 0.7461\n",
      "Epoch 52/100\n",
      "62/62 [==============================] - 7s 103ms/step - loss: 0.8715 - categorical_accuracy: 0.5817 - auc: 0.7669 - val_loss: 0.9260 - val_categorical_accuracy: 0.5303 - val_auc: 0.7445\n",
      "Epoch 53/100\n",
      "62/62 [==============================] - 6s 96ms/step - loss: 0.8981 - categorical_accuracy: 0.5538 - auc: 0.7446 - val_loss: 0.9306 - val_categorical_accuracy: 0.5303 - val_auc: 0.7205\n",
      "Epoch 54/100\n",
      "62/62 [==============================] - 6s 100ms/step - loss: 0.8701 - categorical_accuracy: 0.6016 - auc: 0.7793 - val_loss: 0.8402 - val_categorical_accuracy: 0.5758 - val_auc: 0.7810\n",
      "Epoch 55/100\n",
      "62/62 [==============================] - 7s 105ms/step - loss: 0.8007 - categorical_accuracy: 0.6215 - auc: 0.8122 - val_loss: 0.8962 - val_categorical_accuracy: 0.5606 - val_auc: 0.7645\n",
      "Epoch 56/100\n",
      "62/62 [==============================] - 6s 96ms/step - loss: 0.8203 - categorical_accuracy: 0.6096 - auc: 0.7976 - val_loss: 0.8713 - val_categorical_accuracy: 0.5606 - val_auc: 0.7601\n",
      "Epoch 57/100\n",
      "62/62 [==============================] - 6s 99ms/step - loss: 0.8063 - categorical_accuracy: 0.6175 - auc: 0.8031 - val_loss: 0.7950 - val_categorical_accuracy: 0.6667 - val_auc: 0.8068\n",
      "Epoch 58/100\n",
      "62/62 [==============================] - 6s 98ms/step - loss: 0.7610 - categorical_accuracy: 0.6375 - auc: 0.8233 - val_loss: 0.8346 - val_categorical_accuracy: 0.5758 - val_auc: 0.7771\n",
      "Epoch 59/100\n",
      "62/62 [==============================] - 6s 95ms/step - loss: 0.7866 - categorical_accuracy: 0.6574 - auc: 0.8172 - val_loss: 0.8878 - val_categorical_accuracy: 0.5758 - val_auc: 0.7711\n",
      "Epoch 60/100\n",
      "62/62 [==============================] - 6s 96ms/step - loss: 0.8427 - categorical_accuracy: 0.6016 - auc: 0.7903 - val_loss: 0.8472 - val_categorical_accuracy: 0.5909 - val_auc: 0.7761\n",
      "Epoch 61/100\n",
      "62/62 [==============================] - 6s 96ms/step - loss: 0.7847 - categorical_accuracy: 0.6295 - auc: 0.8147 - val_loss: 0.9580 - val_categorical_accuracy: 0.5606 - val_auc: 0.7275\n",
      "Epoch 62/100\n",
      "62/62 [==============================] - 6s 98ms/step - loss: 0.7885 - categorical_accuracy: 0.6693 - auc: 0.8303 - val_loss: 0.9975 - val_categorical_accuracy: 0.5758 - val_auc: 0.7628\n",
      "Epoch 63/100\n",
      "62/62 [==============================] - 6s 97ms/step - loss: 0.8052 - categorical_accuracy: 0.6335 - auc: 0.8085 - val_loss: 0.8921 - val_categorical_accuracy: 0.5758 - val_auc: 0.7759\n",
      "Epoch 64/100\n",
      "62/62 [==============================] - 6s 97ms/step - loss: 0.7845 - categorical_accuracy: 0.6375 - auc: 0.8201 - val_loss: 0.8171 - val_categorical_accuracy: 0.6515 - val_auc: 0.8128\n",
      "Epoch 65/100\n",
      "62/62 [==============================] - 7s 115ms/step - loss: 0.8201 - categorical_accuracy: 0.6534 - auc: 0.8114 - val_loss: 1.0267 - val_categorical_accuracy: 0.5909 - val_auc: 0.7488\n"
     ]
    }
   ],
   "source": [
    "####\n",
    "### Fitting model\n",
    "####\n",
    "\n",
    "\n",
    "# add early stopping rule\n",
    "callback = EarlyStopping(monitor = 'categorical_accuracy', patience = 25)\n",
    "\n",
    "history = model.fit(training_iterator,\n",
    "                    steps_per_epoch = training_iterator.samples / batch_images,\n",
    "                    epochs = 100, \n",
    "                    validation_data = test_iterator,\n",
    "                    validation_steps = test_iterator.samples / batch_images,\n",
    "                    callbacks = [callback])\n",
    "\n",
    "\n"
   ]
  },
  {
   "cell_type": "code",
   "execution_count": 6,
   "id": "4fccd891",
   "metadata": {},
   "outputs": [
    {
     "name": "stderr",
     "output_type": "stream",
     "text": [
      "/var/folders/gl/gg126_x15pqfgb8m_4wzfnnh0000gn/T/ipykernel_9433/1460823092.py:29: UserWarning: Matplotlib is currently using module://matplotlib_inline.backend_inline, which is a non-GUI backend, so cannot show the figure.\n",
      "  fig.show()\n"
     ]
    },
    {
     "data": {
      "image/png": "[encoded data removed]",
      "text/plain": [
       "<Figure size 432x288 with 2 Axes>"
      ]
     },
     "metadata": {
      "needs_background": "light"
     },
     "output_type": "display_data"
    }
   ],
   "source": [
    "\n",
    "####\n",
    "### Plot\n",
    "####\n",
    "%matplotlib inline\n",
    "\n",
    "\n",
    "# plotting categorical and validation accuracy over epochs\n",
    "fig = plt.figure()\n",
    "ax1 = fig.add_subplot(2, 1, 1)\n",
    "ax1.plot(history.history['categorical_accuracy'])\n",
    "ax1.plot(history.history['val_categorical_accuracy'])\n",
    "ax1.set_title('model accuracy')\n",
    "ax1.set_xlabel('epoch')\n",
    "ax1.set_ylabel('accuracy')\n",
    "ax1.legend(['train', 'validation'], loc='upper left')\n",
    "\n",
    "# plotting auc and validation auc over epochs\n",
    "ax2 = fig.add_subplot(2, 1, 2)\n",
    "ax2.plot(history.history['auc'])\n",
    "ax2.plot(history.history['val_auc'])\n",
    "ax2.set_title('model auc')\n",
    "ax2.set_xlabel('epoch')\n",
    "ax2.set_ylabel('auc')\n",
    "ax2.legend(['train', 'validation'], loc='upper left')\n",
    "\n",
    "# used to keep plots from overlapping\n",
    "fig.tight_layout()\n",
    "\n",
    "fig.show()\n",
    "\n",
    "#fig.savefig('accuracy_plot.png')\n",
    "\n"
   ]
  },
  {
   "cell_type": "code",
   "execution_count": 7,
   "id": "60b7d3f5",
   "metadata": {},
   "outputs": [
    {
     "name": "stdout",
     "output_type": "stream",
     "text": [
      "17/17 [==============================] - 1s 60ms/step\n",
      "              precision    recall  f1-score   support\n",
      "\n",
      "       Covid       0.39      0.50      0.44        26\n",
      "      Normal       0.36      0.20      0.26        20\n",
      "   Pneumonia       0.27      0.30      0.29        20\n",
      "\n",
      "    accuracy                           0.35        66\n",
      "   macro avg       0.34      0.33      0.33        66\n",
      "weighted avg       0.35      0.35      0.34        66\n",
      "\n",
      "[[13  4  9]\n",
      " [ 9  4  7]\n",
      " [11  3  6]]\n"
     ]
    }
   ],
   "source": [
    "####\n",
    "### Confusion matrix\n",
    "####\n",
    "\n",
    "test_steps_per_epoch = np.math.ceil(test_iterator.samples / test_iterator.batch_size)\n",
    "predictions = model.predict(test_iterator, steps=test_steps_per_epoch)\n",
    "test_steps_per_epoch = np.math.ceil(test_iterator.samples / test_iterator.batch_size)\n",
    "predicted_classes = np.argmax(predictions, axis=1)\n",
    "true_classes = test_iterator.classes\n",
    "class_labels = list(test_iterator.class_indices.keys())\n",
    "report = classification_report(true_classes, predicted_classes, target_names=class_labels)\n",
    "print(report)\n",
    "\n",
    "cm=confusion_matrix(true_classes,predicted_classes)\n",
    "print(cm)"
   ]
  },
  {
   "cell_type": "code",
   "execution_count": null,
   "id": "25938465",
   "metadata": {},
   "outputs": [],
   "source": []
  }
 ],
 "metadata": {
  "kernelspec": {
   "display_name": "Python 3 (ipykernel)",
   "language": "python",
   "name": "python3"
  },
  "language_info": {
   "codemirror_mode": {
    "name": "ipython",
    "version": 3
   },
   "file_extension": ".py",
   "mimetype": "text/x-python",
   "name": "python",
   "nbconvert_exporter": "python",
   "pygments_lexer": "ipython3",
   "version": "3.9.12"
  }
 },
 "nbformat": 4,
 "nbformat_minor": 5
}
